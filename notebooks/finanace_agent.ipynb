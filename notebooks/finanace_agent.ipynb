{
 "cells": [
  {
   "cell_type": "code",
   "execution_count": 17,
   "metadata": {},
   "outputs": [],
   "source": [
    "from phi.agent import Agent\n",
    "from phi.model.groq import Groq\n",
    "from phi.tools.yfinance import YFinanceTools\n",
    "from dotenv import load_dotenv\n",
    "import os\n",
    "\n"
   ]
  },
  {
   "cell_type": "code",
   "execution_count": null,
   "metadata": {},
   "outputs": [],
   "source": [
    "/Users/samdesai/Repos/agentiai_course/config/.env"
   ]
  },
  {
   "cell_type": "code",
   "execution_count": 27,
   "metadata": {},
   "outputs": [],
   "source": [
    "\n",
    "load_dotenv(\"../config/.env\")\n",
    "\n",
    "# Import keys\n",
    "groq_api_key = os.getenv('GROQ_API_KEY')\n",
    "openai_api_key = os.getenv('OPENAI_API_KEY')\n",
    "phi_api_key = os.getenv('PHI_API_KEY')"
   ]
  },
  {
   "cell_type": "code",
   "execution_count": 30,
   "metadata": {},
   "outputs": [],
   "source": [
    "def _setup_model():\n",
    "    \"\"\"Initialize the Groq model\"\"\"\n",
    "    llm_id = \"llama-3.3-70b-versatile\"\n",
    "    return Groq(id=llm_id)\n",
    "\n",
    "def _get_yfinance_tools():\n",
    "    \"\"\"Configure YFinance tools\"\"\"\n",
    "    return YFinanceTools(\n",
    "        stock_price=True,\n",
    "        analyst_recommendations=True,\n",
    "        stock_fundamentals=True,\n",
    "        technical_indicators=True,\n",
    "        key_financial_ratios=True,\n",
    "        company_news=True,\n",
    "    )\n",
    "\n",
    "def _create_agent():\n",
    "    \"\"\"Create the financial analysis agent\"\"\"\n",
    "    return Agent(\n",
    "        name=\"Finance AI Agent\",\n",
    "        model=_setup_model(),\n",
    "        tools=[_get_yfinance_tools()],\n",
    "        instructions=[\"Use table to display the data\"],\n",
    "        show_tool_calls=True,\n",
    "        markdown=True,\n",
    "    )\n",
    "\n",
    "def analyze_stock(ticker: str, analysis_type: str = \"comprehensive\"):\n",
    "    \"\"\"Analyze a specific stock\"\"\"\n",
    "    prompt = f\"Analyze {ticker} stock with focus on {analysis_type}\"\n",
    "    agent = _create_agent()\n",
    "    return agent.print_response(prompt, stream=True)\n",
    "\n",
    "# def get_analyst_recommendations(self, ticker: str):\n",
    "#     \"\"\"Get analyst recommendations for a stock\"\"\"\n",
    "#     prompt = f\"Get analyst recommendations for {ticker}\"\n",
    "#     return agent.print_response(prompt, stream=True)\n",
    "\n",
    "# def get_company_news(self, ticker: str):\n",
    "#     \"\"\"Get latest news for a company\"\"\"\n",
    "#     prompt = f\"Get latest news for {ticker}\"\n",
    "#     return agent.print_response(prompt, stream=True)\n",
    "\n"
   ]
  },
  {
   "cell_type": "code",
   "execution_count": 32,
   "metadata": {},
   "outputs": [
    {
     "data": {
      "text/html": [
       "<pre style=\"white-space:pre;overflow-x:auto;line-height:normal;font-family:Menlo,'DejaVu Sans Mono',consolas,'Courier New',monospace\">/opt/anaconda3/envs/.agentic/lib/python3.12/site-packages/rich/live.py:231: UserWarning: install \"ipywidgets\" for \n",
       "Jupyter support\n",
       "  warnings.warn('install \"ipywidgets\" for Jupyter support')\n",
       "</pre>\n"
      ],
      "text/plain": [
       "/opt/anaconda3/envs/.agentic/lib/python3.12/site-packages/rich/live.py:231: UserWarning: install \"ipywidgets\" for \n",
       "Jupyter support\n",
       "  warnings.warn('install \"ipywidgets\" for Jupyter support')\n"
      ]
     },
     "metadata": {},
     "output_type": "display_data"
    },
    {
     "data": {
      "text/html": [
       "<pre style=\"white-space:pre;overflow-x:auto;line-height:normal;font-family:Menlo,'DejaVu Sans Mono',consolas,'Courier New',monospace\"></pre>\n"
      ],
      "text/plain": []
     },
     "metadata": {},
     "output_type": "display_data"
    },
    {
     "name": "stdout",
     "output_type": "stream",
     "text": [
      "None\n"
     ]
    }
   ],
   "source": [
    "print(analyze_stock(\"NVDA\", analysis_type = \"comprehensive\"))"
   ]
  },
  {
   "cell_type": "code",
   "execution_count": null,
   "metadata": {},
   "outputs": [],
   "source": []
  }
 ],
 "metadata": {
  "kernelspec": {
   "display_name": ".agentic",
   "language": "python",
   "name": "python3"
  },
  "language_info": {
   "codemirror_mode": {
    "name": "ipython",
    "version": 3
   },
   "file_extension": ".py",
   "mimetype": "text/x-python",
   "name": "python",
   "nbconvert_exporter": "python",
   "pygments_lexer": "ipython3",
   "version": "3.12.0"
  }
 },
 "nbformat": 4,
 "nbformat_minor": 2
}
